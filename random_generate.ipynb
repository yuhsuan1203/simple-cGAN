{
 "cells": [
  {
   "cell_type": "code",
   "execution_count": 1,
   "metadata": {},
   "outputs": [],
   "source": [
    "import matplotlib.pyplot as plt\n",
    "\n",
    "from skimage.draw import random_shapes"
   ]
  },
  {
   "cell_type": "code",
   "execution_count": 53,
   "metadata": {},
   "outputs": [
    {
     "data": {
      "image/png": "[encoded data removed]",
      "text/plain": [
       "<Figure size 432x288 with 1 Axes>"
      ]
     },
     "metadata": {
      "needs_background": "light"
     },
     "output_type": "display_data"
    }
   ],
   "source": [
    "for i in range(0, 300):\n",
    "    result = random_shapes((128, 128), max_shapes=1, min_size=50, multichannel=False, shape='rectangle')\n",
    "    image, labels = result\n",
    "    plt.axis('off')\n",
    "    plt.imshow(image, cmap='gray')\n",
    "    plt.savefig('shape/rect/' + '%03d' % i + '.png', bbox_inches='tight')\n",
    "\n",
    "for i in range(0, 300):\n",
    "    result = random_shapes((128, 128), max_shapes=1, min_size=50, multichannel=False, shape='triangle')\n",
    "    image, labels = result\n",
    "    plt.axis('off')\n",
    "    plt.imshow(image, cmap='gray')\n",
    "    plt.savefig('shape/tri/' + '%03d' % i + '.png', bbox_inches='tight')\n",
    "    \n",
    "for i in range(0, 300):\n",
    "    result = random_shapes((128, 128), max_shapes=1, min_size=50, multichannel=False, shape='circle')\n",
    "    image, labels = result\n",
    "    plt.axis('off')\n",
    "    plt.imshow(image, cmap='gray')\n",
    "    plt.savefig('shape/circle/' + '%03d' % i + '.png', bbox_inches='tight')"
   ]
  }
 ],
 "metadata": {
  "kernelspec": {
   "display_name": "Python 3",
   "language": "python",
   "name": "python3"
  },
  "language_info": {
   "codemirror_mode": {
    "name": "ipython",
    "version": 3
   },
   "file_extension": ".py",
   "mimetype": "text/x-python",
   "name": "python",
   "nbconvert_exporter": "python",
   "pygments_lexer": "ipython3",
   "version": "3.6.9"
  }
 },
 "nbformat": 4,
 "nbformat_minor": 2
}
